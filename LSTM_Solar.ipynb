{
  "nbformat": 4,
  "nbformat_minor": 0,
  "metadata": {
    "colab": {
      "name": "LSTM_Solar.ipynb",
      "provenance": [],
      "collapsed_sections": [],
      "include_colab_link": true
    },
    "kernelspec": {
      "name": "python3",
      "display_name": "Python 3"
    },
    "accelerator": "GPU"
  },
  "cells": [
    {
      "cell_type": "markdown",
      "metadata": {
        "id": "view-in-github",
        "colab_type": "text"
      },
      "source": [
        "<a href=\"https://colab.research.google.com/github/Manav-Gupta/Solar-Irradiance-Bio-Inspired/blob/main/LSTM_Solar.ipynb\" target=\"_parent\"><img src=\"https://colab.research.google.com/assets/colab-badge.svg\" alt=\"Open In Colab\"/></a>"
      ]
    },
    {
      "cell_type": "code",
      "metadata": {
        "id": "v37GPr0xQ0sm",
        "colab": {
          "base_uri": "https://localhost:8080/",
          "height": 122
        },
        "outputId": "a7cf8175-f56d-436e-d508-564128bc99ca"
      },
      "source": [
        "#Mounting the drive to access the dataset\n",
        "from google.colab import drive\n",
        "drive.mount('/content/drive')"
      ],
      "execution_count": null,
      "outputs": [
        {
          "output_type": "stream",
          "text": [
            "Go to this URL in a browser: https://accounts.google.com/o/oauth2/auth?client_id=947318989803-6bn6qk8qdgf4n4g3pfee6491hc0brc4i.apps.googleusercontent.com&redirect_uri=urn%3Aietf%3Awg%3Aoauth%3A2.0%3Aoob&scope=email%20https%3A%2F%2Fwww.googleapis.com%2Fauth%2Fdocs.test%20https%3A%2F%2Fwww.googleapis.com%2Fauth%2Fdrive%20https%3A%2F%2Fwww.googleapis.com%2Fauth%2Fdrive.photos.readonly%20https%3A%2F%2Fwww.googleapis.com%2Fauth%2Fpeopleapi.readonly&response_type=code\n",
            "\n",
            "Enter your authorization code:\n",
            "··········\n",
            "Mounted at /content/drive\n"
          ],
          "name": "stdout"
        }
      ]
    },
    {
      "cell_type": "code",
      "metadata": {
        "id": "kz53BgcyQ2Cn"
      },
      "source": [
        "#Importing all the required libraries\n",
        "import pandas as pd\n",
        "import numpy as np\n",
        "import matplotlib.pyplot as plt\n",
        "from math import sqrt\n",
        "import keras\n",
        "from pandas import DataFrame\n",
        "from sklearn.preprocessing import MinMaxScaler\n",
        "from sklearn.metrics import mean_squared_error\n",
        "from keras.models import Sequential\n",
        "from keras.layers import Dense\n",
        "from keras.layers import LSTM\n",
        "from keras.optimizers import Adam\n",
        "from datetime import datetime\n"
      ],
      "execution_count": null,
      "outputs": []
    },
    {
      "cell_type": "code",
      "metadata": {
        "id": "gvUYj-R7Rfg1",
        "colab": {
          "base_uri": "https://localhost:8080/",
          "height": 376
        },
        "outputId": "de6bf100-655b-4fa4-b396-f2d8e0d47baf"
      },
      "source": [
        "dataset=pd.read_csv('drive/My Drive/Colab Notebooks/BA_Combined.csv')\n",
        "dataset.head(10)"
      ],
      "execution_count": null,
      "outputs": [
        {
          "output_type": "execute_result",
          "data": {
            "text/html": [
              "<div>\n",
              "<style scoped>\n",
              "    .dataframe tbody tr th:only-of-type {\n",
              "        vertical-align: middle;\n",
              "    }\n",
              "\n",
              "    .dataframe tbody tr th {\n",
              "        vertical-align: top;\n",
              "    }\n",
              "\n",
              "    .dataframe thead th {\n",
              "        text-align: right;\n",
              "    }\n",
              "</style>\n",
              "<table border=\"1\" class=\"dataframe\">\n",
              "  <thead>\n",
              "    <tr style=\"text-align: right;\">\n",
              "      <th></th>\n",
              "      <th>Year</th>\n",
              "      <th>Month</th>\n",
              "      <th>Day</th>\n",
              "      <th>Hour</th>\n",
              "      <th>Minute</th>\n",
              "      <th>DHI</th>\n",
              "      <th>DNI</th>\n",
              "      <th>GHI</th>\n",
              "      <th>Dew Point</th>\n",
              "      <th>Temperature</th>\n",
              "      <th>Pressure</th>\n",
              "      <th>Relative Humidity</th>\n",
              "      <th>Wind Direction</th>\n",
              "      <th>Wind Speed</th>\n",
              "    </tr>\n",
              "  </thead>\n",
              "  <tbody>\n",
              "    <tr>\n",
              "      <th>0</th>\n",
              "      <td>2010</td>\n",
              "      <td>1</td>\n",
              "      <td>1</td>\n",
              "      <td>0</td>\n",
              "      <td>30</td>\n",
              "      <td>0</td>\n",
              "      <td>0</td>\n",
              "      <td>0</td>\n",
              "      <td>-5</td>\n",
              "      <td>11.852440</td>\n",
              "      <td>996.147217</td>\n",
              "      <td>29.790052</td>\n",
              "      <td>36.635731</td>\n",
              "      <td>2.722316</td>\n",
              "    </tr>\n",
              "    <tr>\n",
              "      <th>1</th>\n",
              "      <td>2010</td>\n",
              "      <td>1</td>\n",
              "      <td>1</td>\n",
              "      <td>1</td>\n",
              "      <td>30</td>\n",
              "      <td>0</td>\n",
              "      <td>0</td>\n",
              "      <td>0</td>\n",
              "      <td>-5</td>\n",
              "      <td>11.225597</td>\n",
              "      <td>996.248657</td>\n",
              "      <td>30.983252</td>\n",
              "      <td>38.746647</td>\n",
              "      <td>2.707211</td>\n",
              "    </tr>\n",
              "    <tr>\n",
              "      <th>2</th>\n",
              "      <td>2010</td>\n",
              "      <td>1</td>\n",
              "      <td>1</td>\n",
              "      <td>2</td>\n",
              "      <td>30</td>\n",
              "      <td>0</td>\n",
              "      <td>0</td>\n",
              "      <td>0</td>\n",
              "      <td>-5</td>\n",
              "      <td>10.658190</td>\n",
              "      <td>995.821533</td>\n",
              "      <td>32.399748</td>\n",
              "      <td>41.129784</td>\n",
              "      <td>2.798367</td>\n",
              "    </tr>\n",
              "    <tr>\n",
              "      <th>3</th>\n",
              "      <td>2010</td>\n",
              "      <td>1</td>\n",
              "      <td>1</td>\n",
              "      <td>3</td>\n",
              "      <td>30</td>\n",
              "      <td>0</td>\n",
              "      <td>0</td>\n",
              "      <td>0</td>\n",
              "      <td>-4</td>\n",
              "      <td>10.129504</td>\n",
              "      <td>995.645081</td>\n",
              "      <td>34.192746</td>\n",
              "      <td>44.009598</td>\n",
              "      <td>2.898466</td>\n",
              "    </tr>\n",
              "    <tr>\n",
              "      <th>4</th>\n",
              "      <td>2010</td>\n",
              "      <td>1</td>\n",
              "      <td>1</td>\n",
              "      <td>4</td>\n",
              "      <td>30</td>\n",
              "      <td>0</td>\n",
              "      <td>0</td>\n",
              "      <td>0</td>\n",
              "      <td>-4</td>\n",
              "      <td>9.635840</td>\n",
              "      <td>995.924561</td>\n",
              "      <td>36.213530</td>\n",
              "      <td>47.319065</td>\n",
              "      <td>2.890179</td>\n",
              "    </tr>\n",
              "    <tr>\n",
              "      <th>5</th>\n",
              "      <td>2010</td>\n",
              "      <td>1</td>\n",
              "      <td>1</td>\n",
              "      <td>5</td>\n",
              "      <td>30</td>\n",
              "      <td>0</td>\n",
              "      <td>0</td>\n",
              "      <td>0</td>\n",
              "      <td>-4</td>\n",
              "      <td>13.329075</td>\n",
              "      <td>996.727173</td>\n",
              "      <td>29.696787</td>\n",
              "      <td>49.007072</td>\n",
              "      <td>3.624711</td>\n",
              "    </tr>\n",
              "    <tr>\n",
              "      <th>6</th>\n",
              "      <td>2010</td>\n",
              "      <td>1</td>\n",
              "      <td>1</td>\n",
              "      <td>6</td>\n",
              "      <td>30</td>\n",
              "      <td>0</td>\n",
              "      <td>0</td>\n",
              "      <td>0</td>\n",
              "      <td>-3</td>\n",
              "      <td>12.871681</td>\n",
              "      <td>997.495850</td>\n",
              "      <td>31.083023</td>\n",
              "      <td>57.249115</td>\n",
              "      <td>3.618878</td>\n",
              "    </tr>\n",
              "    <tr>\n",
              "      <th>7</th>\n",
              "      <td>2010</td>\n",
              "      <td>1</td>\n",
              "      <td>1</td>\n",
              "      <td>7</td>\n",
              "      <td>30</td>\n",
              "      <td>0</td>\n",
              "      <td>0</td>\n",
              "      <td>0</td>\n",
              "      <td>-3</td>\n",
              "      <td>13.520990</td>\n",
              "      <td>998.175964</td>\n",
              "      <td>31.173157</td>\n",
              "      <td>64.765450</td>\n",
              "      <td>3.562192</td>\n",
              "    </tr>\n",
              "    <tr>\n",
              "      <th>8</th>\n",
              "      <td>2010</td>\n",
              "      <td>1</td>\n",
              "      <td>1</td>\n",
              "      <td>8</td>\n",
              "      <td>30</td>\n",
              "      <td>80</td>\n",
              "      <td>292</td>\n",
              "      <td>135</td>\n",
              "      <td>-2</td>\n",
              "      <td>16.388988</td>\n",
              "      <td>998.849304</td>\n",
              "      <td>27.988229</td>\n",
              "      <td>70.387955</td>\n",
              "      <td>3.084073</td>\n",
              "    </tr>\n",
              "    <tr>\n",
              "      <th>9</th>\n",
              "      <td>2010</td>\n",
              "      <td>1</td>\n",
              "      <td>1</td>\n",
              "      <td>9</td>\n",
              "      <td>30</td>\n",
              "      <td>118</td>\n",
              "      <td>577</td>\n",
              "      <td>331</td>\n",
              "      <td>0</td>\n",
              "      <td>19.753776</td>\n",
              "      <td>999.441589</td>\n",
              "      <td>25.638371</td>\n",
              "      <td>72.587616</td>\n",
              "      <td>2.419390</td>\n",
              "    </tr>\n",
              "  </tbody>\n",
              "</table>\n",
              "</div>"
            ],
            "text/plain": [
              "   Year  Month  Day  ...  Relative Humidity  Wind Direction  Wind Speed\n",
              "0  2010      1    1  ...          29.790052       36.635731    2.722316\n",
              "1  2010      1    1  ...          30.983252       38.746647    2.707211\n",
              "2  2010      1    1  ...          32.399748       41.129784    2.798367\n",
              "3  2010      1    1  ...          34.192746       44.009598    2.898466\n",
              "4  2010      1    1  ...          36.213530       47.319065    2.890179\n",
              "5  2010      1    1  ...          29.696787       49.007072    3.624711\n",
              "6  2010      1    1  ...          31.083023       57.249115    3.618878\n",
              "7  2010      1    1  ...          31.173157       64.765450    3.562192\n",
              "8  2010      1    1  ...          27.988229       70.387955    3.084073\n",
              "9  2010      1    1  ...          25.638371       72.587616    2.419390\n",
              "\n",
              "[10 rows x 14 columns]"
            ]
          },
          "metadata": {
            "tags": []
          },
          "execution_count": 3
        }
      ]
    },
    {
      "cell_type": "code",
      "metadata": {
        "id": "0fhCtQeHRwNy",
        "colab": {
          "base_uri": "https://localhost:8080/",
          "height": 694
        },
        "outputId": "d91da601-0f65-4ec1-8093-71305bcc4fb7"
      },
      "source": [
        "#Removing unnecessary data\n",
        "dataset=pd.read_csv('drive/My Drive/Colab Notebooks/BA_Combined.csv')\n",
        "dataset.drop('Minute',axis=1,inplace=True)\n",
        "dataset.drop('Year',axis=1,inplace=True)\n",
        "dataset.drop('DHI',axis=1,inplace=True)\n",
        "dataset.drop('DNI',axis=1,inplace=True)\n",
        "dataset.drop('Wind Direction',axis=1,inplace=True)\n",
        "dataset.columns=['Month','Day','Hour','GHI','Dew Point','Temperature','Pressure','Relative Humidity','Wind Speed']\n",
        "dataset = dataset[['Month','Day','Hour','GHI','Dew Point','Temperature','Pressure','Relative Humidity','Wind Speed']]\n",
        "print(dataset.head(20))\n",
        "\n",
        "dataset.to_csv('final.csv')\n",
        "plt.plot(dataset['GHI'])"
      ],
      "execution_count": null,
      "outputs": [
        {
          "output_type": "stream",
          "text": [
            "Using TensorFlow backend.\n"
          ],
          "name": "stderr"
        },
        {
          "output_type": "stream",
          "text": [
            "    Month  Day  Hour  ...    Pressure  Relative Humidity  Wind Speed\n",
            "0       1    1     0  ...  996.147217          29.790052    2.722316\n",
            "1       1    1     1  ...  996.248657          30.983252    2.707211\n",
            "2       1    1     2  ...  995.821533          32.399748    2.798367\n",
            "3       1    1     3  ...  995.645081          34.192746    2.898466\n",
            "4       1    1     4  ...  995.924561          36.213530    2.890179\n",
            "5       1    1     5  ...  996.727173          29.696787    3.624711\n",
            "6       1    1     6  ...  997.495850          31.083023    3.618878\n",
            "7       1    1     7  ...  998.175964          31.173157    3.562192\n",
            "8       1    1     8  ...  998.849304          27.988229    3.084073\n",
            "9       1    1     9  ...  999.441589          25.638371    2.419390\n",
            "10      1    1    10  ...  999.189270          21.699108    2.170230\n",
            "11      1    1    11  ...  998.304016          18.483890    1.936101\n",
            "12      1    1    12  ...  997.064331          17.682752    1.393144\n",
            "13      1    1    13  ...  996.438904          17.630112    0.928905\n",
            "14      1    1    14  ...  995.764038          18.012171    0.454455\n",
            "15      1    1    15  ...  995.302429          19.112631    0.463374\n",
            "16      1    1    16  ...  995.030701          22.107524    1.052359\n",
            "17      1    1    17  ...  995.012085          32.798620    1.964765\n",
            "18      1    1    18  ...  995.603699          26.297512    2.885018\n",
            "19      1    1    19  ...  995.768982          26.120752    3.588166\n",
            "\n",
            "[20 rows x 9 columns]\n"
          ],
          "name": "stdout"
        },
        {
          "output_type": "execute_result",
          "data": {
            "text/plain": [
              "[<matplotlib.lines.Line2D at 0x7fcec112df28>]"
            ]
          },
          "metadata": {
            "tags": []
          },
          "execution_count": 4
        },
        {
          "output_type": "display_data",
          "data": {
            "image/png": "[encoded data removed]",
            "text/plain": [
              "<Figure size 432x288 with 1 Axes>"
            ]
          },
          "metadata": {
            "tags": []
          }
        }
      ]
    },
    {
      "cell_type": "code",
      "metadata": {
        "id": "kx9BWoN6pcDH",
        "colab": {
          "base_uri": "https://localhost:8080/",
          "height": 204
        },
        "outputId": "742ca5ee-aa88-4583-ba0e-3e217849bcb5"
      },
      "source": [
        "dataset=read_csv('final.csv',header=0,index_col=0)\n",
        "dataset1=dataset.values\n",
        "dataset2=dataset['GHI'].values\n",
        "dataset.head()"
      ],
      "execution_count": null,
      "outputs": [
        {
          "output_type": "execute_result",
          "data": {
            "text/html": [
              "<div>\n",
              "<style scoped>\n",
              "    .dataframe tbody tr th:only-of-type {\n",
              "        vertical-align: middle;\n",
              "    }\n",
              "\n",
              "    .dataframe tbody tr th {\n",
              "        vertical-align: top;\n",
              "    }\n",
              "\n",
              "    .dataframe thead th {\n",
              "        text-align: right;\n",
              "    }\n",
              "</style>\n",
              "<table border=\"1\" class=\"dataframe\">\n",
              "  <thead>\n",
              "    <tr style=\"text-align: right;\">\n",
              "      <th></th>\n",
              "      <th>Month</th>\n",
              "      <th>Day</th>\n",
              "      <th>Hour</th>\n",
              "      <th>GHI</th>\n",
              "      <th>Dew Point</th>\n",
              "      <th>Temperature</th>\n",
              "      <th>Pressure</th>\n",
              "      <th>Relative Humidity</th>\n",
              "      <th>Wind Speed</th>\n",
              "    </tr>\n",
              "  </thead>\n",
              "  <tbody>\n",
              "    <tr>\n",
              "      <th>0</th>\n",
              "      <td>1</td>\n",
              "      <td>1</td>\n",
              "      <td>0</td>\n",
              "      <td>0</td>\n",
              "      <td>-5</td>\n",
              "      <td>11.852440</td>\n",
              "      <td>996.147217</td>\n",
              "      <td>29.790052</td>\n",
              "      <td>2.722316</td>\n",
              "    </tr>\n",
              "    <tr>\n",
              "      <th>1</th>\n",
              "      <td>1</td>\n",
              "      <td>1</td>\n",
              "      <td>1</td>\n",
              "      <td>0</td>\n",
              "      <td>-5</td>\n",
              "      <td>11.225597</td>\n",
              "      <td>996.248657</td>\n",
              "      <td>30.983252</td>\n",
              "      <td>2.707211</td>\n",
              "    </tr>\n",
              "    <tr>\n",
              "      <th>2</th>\n",
              "      <td>1</td>\n",
              "      <td>1</td>\n",
              "      <td>2</td>\n",
              "      <td>0</td>\n",
              "      <td>-5</td>\n",
              "      <td>10.658190</td>\n",
              "      <td>995.821533</td>\n",
              "      <td>32.399748</td>\n",
              "      <td>2.798367</td>\n",
              "    </tr>\n",
              "    <tr>\n",
              "      <th>3</th>\n",
              "      <td>1</td>\n",
              "      <td>1</td>\n",
              "      <td>3</td>\n",
              "      <td>0</td>\n",
              "      <td>-4</td>\n",
              "      <td>10.129504</td>\n",
              "      <td>995.645081</td>\n",
              "      <td>34.192746</td>\n",
              "      <td>2.898466</td>\n",
              "    </tr>\n",
              "    <tr>\n",
              "      <th>4</th>\n",
              "      <td>1</td>\n",
              "      <td>1</td>\n",
              "      <td>4</td>\n",
              "      <td>0</td>\n",
              "      <td>-4</td>\n",
              "      <td>9.635840</td>\n",
              "      <td>995.924560</td>\n",
              "      <td>36.213530</td>\n",
              "      <td>2.890179</td>\n",
              "    </tr>\n",
              "  </tbody>\n",
              "</table>\n",
              "</div>"
            ],
            "text/plain": [
              "   Month  Day  Hour  ...    Pressure  Relative Humidity  Wind Speed\n",
              "0      1    1     0  ...  996.147217          29.790052    2.722316\n",
              "1      1    1     1  ...  996.248657          30.983252    2.707211\n",
              "2      1    1     2  ...  995.821533          32.399748    2.798367\n",
              "3      1    1     3  ...  995.645081          34.192746    2.898466\n",
              "4      1    1     4  ...  995.924560          36.213530    2.890179\n",
              "\n",
              "[5 rows x 9 columns]"
            ]
          },
          "metadata": {
            "tags": []
          },
          "execution_count": 5
        }
      ]
    },
    {
      "cell_type": "code",
      "metadata": {
        "id": "ZcrdFR3rLHOC",
        "colab": {
          "base_uri": "https://localhost:8080/",
          "height": 51
        },
        "outputId": "80dabea5-fa20-49c4-aba5-aee446b36cd1"
      },
      "source": [
        "#Scaling data\n",
        "scale_x = MinMaxScaler(feature_range=(0,1))\n",
        "scaled_x=scale_x.fit_transform(dataset1)\n",
        "print(scaled_x.shape)\n",
        "\n",
        "dataset2=dataset2.reshape(-1, 1)\n",
        "scale_y = MinMaxScaler(feature_range=(0,1))\n",
        "scaled_y=scale_y.fit_transform(dataset2)\n",
        "print(scaled_y.shape)"
      ],
      "execution_count": null,
      "outputs": [
        {
          "output_type": "stream",
          "text": [
            "(43800, 9)\n",
            "(43800, 1)\n"
          ],
          "name": "stdout"
        }
      ]
    },
    {
      "cell_type": "code",
      "metadata": {
        "id": "UiqCD95i7Wrg"
      },
      "source": [
        ""
      ],
      "execution_count": null,
      "outputs": []
    },
    {
      "cell_type": "code",
      "metadata": {
        "id": "f1GZazJU4bB6",
        "colab": {
          "base_uri": "https://localhost:8080/",
          "height": 34
        },
        "outputId": "d99a952d-ec08-4550-903a-07ff4a50f19e"
      },
      "source": [
        "# vector to matrix conversion function for weights matrix\n",
        "x=list()\n",
        "y=list()\n",
        "for i in range(len(dataset)-25):\n",
        "  xx=list()\n",
        "  for j in range(0,24,1):\n",
        "    value=scaled_x[i+j]\n",
        "    xx.append(value)\n",
        "  x.append(xx)\n",
        "  yy=scaled_y[i+24]\n",
        "  y.append(yy)\n",
        "x=np.array(x)\n",
        "y=np.array(y)\n",
        "print(x.shape)"
      ],
      "execution_count": null,
      "outputs": [
        {
          "output_type": "stream",
          "text": [
            "(43775, 24, 9)\n"
          ],
          "name": "stdout"
        }
      ]
    },
    {
      "cell_type": "code",
      "metadata": {
        "id": "tLPGpKY53VMo"
      },
      "source": [
        "#Splitting data into training 70% , testing 15% and validation 15%\n",
        "n_train_hours = 32831\n",
        "n_valid_hours = 37208\n",
        "\n",
        "train_x = x[:n_train_hours]\n",
        "test_x = x[n_valid_hours:]\n",
        "valid_x= x[n_train_hours:n_valid_hours]\n",
        "\n",
        "train_y = y[:n_train_hours]\n",
        "test_y = y[n_valid_hours:]\n",
        "valid_y= y[n_train_hours:n_valid_hours]"
      ],
      "execution_count": null,
      "outputs": []
    },
    {
      "cell_type": "code",
      "metadata": {
        "id": "8WAfASPpzmeG",
        "colab": {
          "base_uri": "https://localhost:8080/",
          "height": 1000
        },
        "outputId": "85fb10d6-4cd7-489a-c015-f1629df29b40"
      },
      "source": [
        "#Declaration of model\n",
        "model = Sequential()\n",
        "#adding LSTM layer\n",
        "model.add(LSTM(64, input_shape=(24,9),kernel_initializer='truncated_normal',return_sequences=True))\n",
        "model.add(LSTM(64,return_sequences=True))\n",
        "model.add(LSTM(64))\n",
        "model.add(Dense(1,activation='linear'))\n",
        "#Training the model\n",
        "model.compile(loss='mae', optimizer=Adam(lr=0.00005))\n",
        "#Plotting the training and validation sets\n",
        "history = model.fit(train_x, train_y, epochs=100, batch_size=15058, validation_data=(valid_x, valid_y), verbose=1, shuffle=False)\n",
        "pyplot.plot(history.history['loss'], label='train')\n",
        "pyplot.plot(history.history['val_loss'], label='valid')\n",
        "pyplot.legend()\n",
        "pyplot.show()"
      ],
      "execution_count": null,
      "outputs": [
        {
          "output_type": "stream",
          "text": [
            "WARNING:tensorflow:From /usr/local/lib/python3.6/dist-packages/keras/backend/tensorflow_backend.py:66: The name tf.get_default_graph is deprecated. Please use tf.compat.v1.get_default_graph instead.\n",
            "\n",
            "WARNING:tensorflow:From /usr/local/lib/python3.6/dist-packages/keras/backend/tensorflow_backend.py:541: The name tf.placeholder is deprecated. Please use tf.compat.v1.placeholder instead.\n",
            "\n",
            "WARNING:tensorflow:From /usr/local/lib/python3.6/dist-packages/keras/backend/tensorflow_backend.py:4479: The name tf.truncated_normal is deprecated. Please use tf.random.truncated_normal instead.\n",
            "\n",
            "WARNING:tensorflow:From /usr/local/lib/python3.6/dist-packages/keras/backend/tensorflow_backend.py:4432: The name tf.random_uniform is deprecated. Please use tf.random.uniform instead.\n",
            "\n",
            "WARNING:tensorflow:From /usr/local/lib/python3.6/dist-packages/keras/optimizers.py:793: The name tf.train.Optimizer is deprecated. Please use tf.compat.v1.train.Optimizer instead.\n",
            "\n",
            "WARNING:tensorflow:From /usr/local/lib/python3.6/dist-packages/keras/backend/tensorflow_backend.py:190: The name tf.get_default_session is deprecated. Please use tf.compat.v1.get_default_session instead.\n",
            "\n",
            "WARNING:tensorflow:From /usr/local/lib/python3.6/dist-packages/keras/backend/tensorflow_backend.py:197: The name tf.ConfigProto is deprecated. Please use tf.compat.v1.ConfigProto instead.\n",
            "\n",
            "WARNING:tensorflow:From /usr/local/lib/python3.6/dist-packages/keras/backend/tensorflow_backend.py:203: The name tf.Session is deprecated. Please use tf.compat.v1.Session instead.\n",
            "\n",
            "WARNING:tensorflow:From /usr/local/lib/python3.6/dist-packages/keras/backend/tensorflow_backend.py:207: The name tf.global_variables is deprecated. Please use tf.compat.v1.global_variables instead.\n",
            "\n",
            "WARNING:tensorflow:From /usr/local/lib/python3.6/dist-packages/keras/backend/tensorflow_backend.py:216: The name tf.is_variable_initialized is deprecated. Please use tf.compat.v1.is_variable_initialized instead.\n",
            "\n",
            "WARNING:tensorflow:From /usr/local/lib/python3.6/dist-packages/keras/backend/tensorflow_backend.py:223: The name tf.variables_initializer is deprecated. Please use tf.compat.v1.variables_initializer instead.\n",
            "\n",
            "WARNING:tensorflow:From /usr/local/lib/python3.6/dist-packages/tensorflow_core/python/ops/math_grad.py:1424: where (from tensorflow.python.ops.array_ops) is deprecated and will be removed in a future version.\n",
            "Instructions for updating:\n",
            "Use tf.where in 2.0, which has the same broadcast rule as np.where\n",
            "WARNING:tensorflow:From /usr/local/lib/python3.6/dist-packages/keras/backend/tensorflow_backend.py:1033: The name tf.assign_add is deprecated. Please use tf.compat.v1.assign_add instead.\n",
            "\n",
            "WARNING:tensorflow:From /usr/local/lib/python3.6/dist-packages/keras/backend/tensorflow_backend.py:1020: The name tf.assign is deprecated. Please use tf.compat.v1.assign instead.\n",
            "\n",
            "Train on 32831 samples, validate on 4377 samples\n",
            "Epoch 1/100\n",
            "32831/32831 [==============================] - 2s 59us/step - loss: 0.0223 - val_loss: 0.0174\n",
            "Epoch 2/100\n",
            "32831/32831 [==============================] - 1s 17us/step - loss: 0.0219 - val_loss: 0.0178\n",
            "Epoch 3/100\n",
            "32831/32831 [==============================] - 1s 15us/step - loss: 0.0218 - val_loss: 0.0173\n",
            "Epoch 4/100\n",
            "32831/32831 [==============================] - 1s 16us/step - loss: 0.0215 - val_loss: 0.0177\n",
            "Epoch 5/100\n",
            "32831/32831 [==============================] - 1s 15us/step - loss: 0.0217 - val_loss: 0.0179\n",
            "Epoch 6/100\n",
            "32831/32831 [==============================] - 1s 15us/step - loss: 0.0221 - val_loss: 0.0176\n",
            "Epoch 7/100\n",
            "32831/32831 [==============================] - 1s 15us/step - loss: 0.0220 - val_loss: 0.0169\n",
            "Epoch 8/100\n",
            "32831/32831 [==============================] - 1s 16us/step - loss: 0.0213 - val_loss: 0.0174\n",
            "Epoch 9/100\n",
            "32831/32831 [==============================] - 1s 16us/step - loss: 0.0217 - val_loss: 0.0171\n",
            "Epoch 10/100\n",
            "32831/32831 [==============================] - 1s 16us/step - loss: 0.0214 - val_loss: 0.0172\n",
            "Epoch 11/100\n",
            "32831/32831 [==============================] - 1s 15us/step - loss: 0.0216 - val_loss: 0.0166\n",
            "Epoch 12/100\n",
            "32831/32831 [==============================] - 1s 16us/step - loss: 0.0209 - val_loss: 0.0170\n",
            "Epoch 13/100\n",
            "32831/32831 [==============================] - 1s 16us/step - loss: 0.0213 - val_loss: 0.0170\n",
            "Epoch 14/100\n",
            "32831/32831 [==============================] - 1s 15us/step - loss: 0.0212 - val_loss: 0.0171\n",
            "Epoch 15/100\n",
            "32831/32831 [==============================] - 1s 16us/step - loss: 0.0215 - val_loss: 0.0167\n",
            "Epoch 16/100\n",
            "32831/32831 [==============================] - 1s 15us/step - loss: 0.0210 - val_loss: 0.0169\n",
            "Epoch 17/100\n",
            "32831/32831 [==============================] - 0s 15us/step - loss: 0.0214 - val_loss: 0.0165\n",
            "Epoch 18/100\n",
            "32831/32831 [==============================] - 1s 16us/step - loss: 0.0209 - val_loss: 0.0167\n",
            "Epoch 19/100\n",
            "32831/32831 [==============================] - 1s 15us/step - loss: 0.0213 - val_loss: 0.0160\n",
            "Epoch 20/100\n",
            "32831/32831 [==============================] - 1s 16us/step - loss: 0.0204 - val_loss: 0.0164\n",
            "Epoch 21/100\n",
            "32831/32831 [==============================] - 1s 16us/step - loss: 0.0209 - val_loss: 0.0160\n",
            "Epoch 22/100\n",
            "32831/32831 [==============================] - 1s 16us/step - loss: 0.0203 - val_loss: 0.0161\n",
            "Epoch 23/100\n",
            "32831/32831 [==============================] - 1s 16us/step - loss: 0.0207 - val_loss: 0.0159\n",
            "Epoch 24/100\n",
            "32831/32831 [==============================] - 1s 16us/step - loss: 0.0201 - val_loss: 0.0159\n",
            "Epoch 25/100\n",
            "32831/32831 [==============================] - 1s 15us/step - loss: 0.0205 - val_loss: 0.0158\n",
            "Epoch 26/100\n",
            "32831/32831 [==============================] - 1s 15us/step - loss: 0.0201 - val_loss: 0.0159\n",
            "Epoch 27/100\n",
            "32831/32831 [==============================] - 1s 15us/step - loss: 0.0206 - val_loss: 0.0157\n",
            "Epoch 28/100\n",
            "32831/32831 [==============================] - 1s 16us/step - loss: 0.0200 - val_loss: 0.0158\n",
            "Epoch 29/100\n",
            "32831/32831 [==============================] - 1s 16us/step - loss: 0.0205 - val_loss: 0.0157\n",
            "Epoch 30/100\n",
            "32831/32831 [==============================] - 1s 16us/step - loss: 0.0200 - val_loss: 0.0160\n",
            "Epoch 31/100\n",
            "32831/32831 [==============================] - 1s 15us/step - loss: 0.0206 - val_loss: 0.0159\n",
            "Epoch 32/100\n",
            "32831/32831 [==============================] - 1s 15us/step - loss: 0.0201 - val_loss: 0.0161\n",
            "Epoch 33/100\n",
            "32831/32831 [==============================] - 1s 15us/step - loss: 0.0208 - val_loss: 0.0159\n",
            "Epoch 34/100\n",
            "32831/32831 [==============================] - 1s 16us/step - loss: 0.0202 - val_loss: 0.0160\n",
            "Epoch 35/100\n",
            "32831/32831 [==============================] - 1s 16us/step - loss: 0.0208 - val_loss: 0.0159\n",
            "Epoch 36/100\n",
            "32831/32831 [==============================] - 1s 16us/step - loss: 0.0201 - val_loss: 0.0159\n",
            "Epoch 37/100\n",
            "32831/32831 [==============================] - 1s 15us/step - loss: 0.0206 - val_loss: 0.0158\n",
            "Epoch 38/100\n",
            "32831/32831 [==============================] - 1s 15us/step - loss: 0.0200 - val_loss: 0.0158\n",
            "Epoch 39/100\n",
            "32831/32831 [==============================] - 1s 16us/step - loss: 0.0206 - val_loss: 0.0155\n",
            "Epoch 40/100\n",
            "32831/32831 [==============================] - 1s 15us/step - loss: 0.0198 - val_loss: 0.0155\n",
            "Epoch 41/100\n",
            "32831/32831 [==============================] - 1s 16us/step - loss: 0.0203 - val_loss: 0.0154\n",
            "Epoch 42/100\n",
            "32831/32831 [==============================] - 1s 15us/step - loss: 0.0196 - val_loss: 0.0153\n",
            "Epoch 43/100\n",
            "32831/32831 [==============================] - 1s 15us/step - loss: 0.0202 - val_loss: 0.0152\n",
            "Epoch 44/100\n",
            "32831/32831 [==============================] - 1s 16us/step - loss: 0.0195 - val_loss: 0.0151\n",
            "Epoch 45/100\n",
            "32831/32831 [==============================] - 1s 15us/step - loss: 0.0200 - val_loss: 0.0150\n",
            "Epoch 46/100\n",
            "32831/32831 [==============================] - 0s 15us/step - loss: 0.0194 - val_loss: 0.0148\n",
            "Epoch 47/100\n",
            "32831/32831 [==============================] - 1s 15us/step - loss: 0.0198 - val_loss: 0.0144\n",
            "Epoch 48/100\n",
            "32831/32831 [==============================] - 1s 15us/step - loss: 0.0189 - val_loss: 0.0140\n",
            "Epoch 49/100\n",
            "32831/32831 [==============================] - 1s 16us/step - loss: 0.0193 - val_loss: 0.0127\n",
            "Epoch 50/100\n",
            "32831/32831 [==============================] - 1s 16us/step - loss: 0.0183 - val_loss: 0.0128\n",
            "Epoch 51/100\n",
            "32831/32831 [==============================] - 1s 15us/step - loss: 0.0186 - val_loss: 0.0132\n",
            "Epoch 52/100\n",
            "32831/32831 [==============================] - 1s 15us/step - loss: 0.0188 - val_loss: 0.0159\n",
            "Epoch 53/100\n",
            "32831/32831 [==============================] - 1s 15us/step - loss: 0.0192 - val_loss: 0.0148\n",
            "Epoch 54/100\n",
            "32831/32831 [==============================] - 1s 16us/step - loss: 0.0192 - val_loss: 0.0158\n",
            "Epoch 55/100\n",
            "32831/32831 [==============================] - 1s 15us/step - loss: 0.0183 - val_loss: 0.0152\n",
            "Epoch 56/100\n",
            "32831/32831 [==============================] - 1s 16us/step - loss: 0.0192 - val_loss: 0.0173\n",
            "Epoch 57/100\n",
            "32831/32831 [==============================] - 1s 15us/step - loss: 0.0206 - val_loss: 0.0174\n",
            "Epoch 58/100\n",
            "32831/32831 [==============================] - 1s 15us/step - loss: 0.0224 - val_loss: 0.0147\n",
            "Epoch 59/100\n",
            "32831/32831 [==============================] - 1s 15us/step - loss: 0.0203 - val_loss: 0.0171\n",
            "Epoch 60/100\n",
            "32831/32831 [==============================] - 1s 16us/step - loss: 0.0203 - val_loss: 0.0171\n",
            "Epoch 61/100\n",
            "32831/32831 [==============================] - 1s 16us/step - loss: 0.0196 - val_loss: 0.0150\n",
            "Epoch 62/100\n",
            "32831/32831 [==============================] - 1s 16us/step - loss: 0.0199 - val_loss: 0.0166\n",
            "Epoch 63/100\n",
            "32831/32831 [==============================] - 1s 15us/step - loss: 0.0201 - val_loss: 0.0166\n",
            "Epoch 64/100\n",
            "32831/32831 [==============================] - 1s 16us/step - loss: 0.0203 - val_loss: 0.0178\n",
            "Epoch 65/100\n",
            "32831/32831 [==============================] - 1s 16us/step - loss: 0.0203 - val_loss: 0.0167\n",
            "Epoch 66/100\n",
            "32831/32831 [==============================] - 1s 16us/step - loss: 0.0209 - val_loss: 0.0181\n",
            "Epoch 67/100\n",
            "32831/32831 [==============================] - 1s 15us/step - loss: 0.0213 - val_loss: 0.0178\n",
            "Epoch 68/100\n",
            "32831/32831 [==============================] - 1s 16us/step - loss: 0.0216 - val_loss: 0.0169\n",
            "Epoch 69/100\n",
            "32831/32831 [==============================] - 1s 16us/step - loss: 0.0199 - val_loss: 0.0157\n",
            "Epoch 70/100\n",
            "32831/32831 [==============================] - 1s 16us/step - loss: 0.0207 - val_loss: 0.0164\n",
            "Epoch 71/100\n",
            "32831/32831 [==============================] - 1s 16us/step - loss: 0.0201 - val_loss: 0.0160\n",
            "Epoch 72/100\n",
            "32831/32831 [==============================] - 1s 16us/step - loss: 0.0203 - val_loss: 0.0169\n",
            "Epoch 73/100\n",
            "32831/32831 [==============================] - 1s 16us/step - loss: 0.0198 - val_loss: 0.0152\n",
            "Epoch 74/100\n",
            "32831/32831 [==============================] - 1s 16us/step - loss: 0.0202 - val_loss: 0.0169\n",
            "Epoch 75/100\n",
            "32831/32831 [==============================] - 1s 15us/step - loss: 0.0201 - val_loss: 0.0157\n",
            "Epoch 76/100\n",
            "32831/32831 [==============================] - 1s 16us/step - loss: 0.0203 - val_loss: 0.0170\n",
            "Epoch 77/100\n",
            "32831/32831 [==============================] - 1s 17us/step - loss: 0.0200 - val_loss: 0.0154\n",
            "Epoch 78/100\n",
            "32831/32831 [==============================] - 1s 16us/step - loss: 0.0204 - val_loss: 0.0167\n",
            "Epoch 79/100\n",
            "32831/32831 [==============================] - 1s 16us/step - loss: 0.0200 - val_loss: 0.0156\n",
            "Epoch 80/100\n",
            "32831/32831 [==============================] - 1s 16us/step - loss: 0.0204 - val_loss: 0.0165\n",
            "Epoch 81/100\n",
            "32831/32831 [==============================] - 1s 15us/step - loss: 0.0197 - val_loss: 0.0153\n",
            "Epoch 82/100\n",
            "32831/32831 [==============================] - 1s 16us/step - loss: 0.0203 - val_loss: 0.0162\n",
            "Epoch 83/100\n",
            "32831/32831 [==============================] - 1s 16us/step - loss: 0.0198 - val_loss: 0.0152\n",
            "Epoch 84/100\n",
            "32831/32831 [==============================] - 1s 16us/step - loss: 0.0202 - val_loss: 0.0162\n",
            "Epoch 85/100\n",
            "32831/32831 [==============================] - 1s 16us/step - loss: 0.0195 - val_loss: 0.0149\n",
            "Epoch 86/100\n",
            "32831/32831 [==============================] - 1s 16us/step - loss: 0.0199 - val_loss: 0.0161\n",
            "Epoch 87/100\n",
            "32831/32831 [==============================] - 1s 16us/step - loss: 0.0196 - val_loss: 0.0150\n",
            "Epoch 88/100\n",
            "32831/32831 [==============================] - 1s 16us/step - loss: 0.0200 - val_loss: 0.0162\n",
            "Epoch 89/100\n",
            "32831/32831 [==============================] - 1s 16us/step - loss: 0.0196 - val_loss: 0.0150\n",
            "Epoch 90/100\n",
            "32831/32831 [==============================] - 1s 16us/step - loss: 0.0200 - val_loss: 0.0160\n",
            "Epoch 91/100\n",
            "32831/32831 [==============================] - 1s 15us/step - loss: 0.0196 - val_loss: 0.0149\n",
            "Epoch 92/100\n",
            "32831/32831 [==============================] - 1s 15us/step - loss: 0.0200 - val_loss: 0.0159\n",
            "Epoch 93/100\n",
            "32831/32831 [==============================] - 1s 15us/step - loss: 0.0195 - val_loss: 0.0149\n",
            "Epoch 94/100\n",
            "32831/32831 [==============================] - 1s 16us/step - loss: 0.0199 - val_loss: 0.0158\n",
            "Epoch 95/100\n",
            "32831/32831 [==============================] - 1s 15us/step - loss: 0.0194 - val_loss: 0.0147\n",
            "Epoch 96/100\n",
            "32831/32831 [==============================] - 1s 16us/step - loss: 0.0198 - val_loss: 0.0156\n",
            "Epoch 97/100\n",
            "32831/32831 [==============================] - 1s 15us/step - loss: 0.0194 - val_loss: 0.0147\n",
            "Epoch 98/100\n",
            "32831/32831 [==============================] - 1s 15us/step - loss: 0.0197 - val_loss: 0.0157\n",
            "Epoch 99/100\n",
            "32831/32831 [==============================] - 1s 15us/step - loss: 0.0193 - val_loss: 0.0146\n",
            "Epoch 100/100\n",
            "32831/32831 [==============================] - 1s 16us/step - loss: 0.0197 - val_loss: 0.0156\n"
          ],
          "name": "stdout"
        },
        {
          "output_type": "display_data",
          "data": {
            "image/png": "[encoded data removed]",
            "text/plain": [
              "<Figure size 432x288 with 1 Axes>"
            ]
          },
          "metadata": {
            "tags": []
          }
        }
      ]
    },
    {
      "cell_type": "code",
      "metadata": {
        "id": "QAA-PfjxmknW",
        "colab": {
          "base_uri": "https://localhost:8080/",
          "height": 521
        },
        "outputId": "d5830606-b063-4820-e25a-a347d09830a3"
      },
      "source": [
        "#Plotting the predicted vs acual graphs\n",
        "plt.plot(inv_yhat[:],color='red',label='Predicted')\n",
        "plt.legend()\n",
        "plt.show()\n",
        "plt.plot(inv_y[:],label='Original value')\n",
        "plt.legend()\n",
        "plt.show()"
      ],
      "execution_count": null,
      "outputs": [
        {
          "output_type": "display_data",
          "data": {
            "image/png": "[encoded data removed]",
            "text/plain": [
              "<Figure size 432x288 with 1 Axes>"
            ]
          },
          "metadata": {
            "tags": []
          }
        },
        {
          "output_type": "display_data",
          "data": {
            "image/png": "[encoded data removed]",
            "text/plain": [
              "<Figure size 432x288 with 1 Axes>"
            ]
          },
          "metadata": {
            "tags": []
          }
        }
      ]
    },
    {
      "cell_type": "code",
      "metadata": {
        "id": "WOjeyjPnNkWs",
        "colab": {
          "base_uri": "https://localhost:8080/",
          "height": 34
        },
        "outputId": "003a39c7-d111-430d-82c3-b0aea50c819d"
      },
      "source": [
        "#Rescaling the data \n",
        "import sklearn.metrics as metrics\n",
        "yhat = model.predict(test_x)\n",
        "\n",
        "inv_yhat = scale_y.inverse_transform(yhat)\n",
        "\n",
        "inv_y = scale_y.inverse_transform(test_y)\n",
        "\n",
        "#Finding the accuracy with RMSE function\n",
        "rmse = sqrt(mean_squared_error(inv_y, inv_yhat))\n",
        "print('Test RMSE: %.3f' % rmse)"
      ],
      "execution_count": null,
      "outputs": [
        {
          "output_type": "stream",
          "text": [
            "Test RMSE: 42.201\n"
          ],
          "name": "stdout"
        }
      ]
    }
  ]
}